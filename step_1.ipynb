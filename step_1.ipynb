{
 "cells": [
  {
   "cell_type": "code",
   "execution_count": 1,
   "id": "14c9d2f5",
   "metadata": {},
   "outputs": [],
   "source": [
    "import pandas as pd\n",
    "import numpy as np"
   ]
  },
  {
   "cell_type": "code",
   "execution_count": 2,
   "id": "e0b253f3",
   "metadata": {},
   "outputs": [],
   "source": [
    "import may_function"
   ]
  },
  {
   "cell_type": "code",
   "execution_count": 3,
   "id": "a2e2bd0a",
   "metadata": {},
   "outputs": [],
   "source": [
    "from geopy import Nominatim\n",
    "geolocator = Nominatim(user_agent=\"specify_may_app\")\n",
    "from geopy.extra.rate_limiter import RateLimiter\n",
    "from tqdm import tqdm\n",
    "tqdm.pandas()"
   ]
  },
  {
   "cell_type": "code",
   "execution_count": 4,
   "id": "f0c5642f",
   "metadata": {},
   "outputs": [],
   "source": [
    "import warnings\n",
    "warnings.filterwarnings('ignore')"
   ]
  },
  {
   "cell_type": "code",
   "execution_count": 5,
   "id": "f6b7186a",
   "metadata": {},
   "outputs": [],
   "source": [
    "train = pd.read_csv(\"./train_dataset_train.zip\", compression='zip')\n",
    "test = pd.read_csv(\"./test_dataset_test.zip\", compression='zip')\n",
    "test['crop'] = -1\n",
    "train = train[sorted(train.columns)]\n",
    "test = test[sorted(test.columns)]"
   ]
  },
  {
   "cell_type": "code",
   "execution_count": 6,
   "id": "41b47923",
   "metadata": {},
   "outputs": [],
   "source": [
    "data = train.append(test).reset_index(drop=True)\n",
    "del train, test"
   ]
  },
  {
   "cell_type": "code",
   "execution_count": 7,
   "id": "a1891ca5",
   "metadata": {},
   "outputs": [],
   "source": [
    "# Простой алгоритм извлечения одной координаты из полигона\n",
    "\n",
    "data['geolist'] = data['.geo'].str.split(',')\n",
    "data['longitude'] = data['geolist'].str[-2].replace(\"[^\\d\\.]\", \"\", regex = True)\n",
    "data['latitude'] = data['geolist'].str[-1].replace(\"[^\\d\\.]\", \"\", regex = True)\n",
    "data['location'] = data['latitude']+', '+data['longitude']"
   ]
  },
  {
   "cell_type": "code",
   "execution_count": 8,
   "id": "0e15819b",
   "metadata": {},
   "outputs": [
    {
     "name": "stderr",
     "output_type": "stream",
     "text": [
      "100%|███████████████████████████████████████████████████████████████| 10/10 [00:09<00:00,  1.10it/s]\n"
     ]
    }
   ],
   "source": [
    "# Данный код будет работать несколько часов. Для примера, в итераторе первые десять строк. \n",
    "# Полная выгрузка в архиве data_all.zip\n",
    "\n",
    "geocode = RateLimiter(geolocator.geocode, min_delay_seconds=1)\n",
    "data['adress'] = data['location'][0:].progress_apply(geocode)"
   ]
  },
  {
   "cell_type": "code",
   "execution_count": 8,
   "id": "9980d0f1",
   "metadata": {},
   "outputs": [],
   "source": [
    "data = may_function.downcast_dtypes(data)"
   ]
  },
  {
   "cell_type": "code",
   "execution_count": 10,
   "id": "22057691",
   "metadata": {},
   "outputs": [],
   "source": [
    "data.to_pickle('./data_all.zip', compression='zip')"
   ]
  },
  {
   "cell_type": "code",
   "execution_count": 11,
   "id": "09f6f855",
   "metadata": {},
   "outputs": [
    {
     "data": {
      "text/html": [
       "<div>\n",
       "<style scoped>\n",
       "    .dataframe tbody tr th:only-of-type {\n",
       "        vertical-align: middle;\n",
       "    }\n",
       "\n",
       "    .dataframe tbody tr th {\n",
       "        vertical-align: top;\n",
       "    }\n",
       "\n",
       "    .dataframe thead th {\n",
       "        text-align: right;\n",
       "    }\n",
       "</style>\n",
       "<table border=\"1\" class=\"dataframe\">\n",
       "  <thead>\n",
       "    <tr style=\"text-align: right;\">\n",
       "      <th></th>\n",
       "      <th>.geo</th>\n",
       "      <th>area</th>\n",
       "      <th>crop</th>\n",
       "      <th>id</th>\n",
       "      <th>nd_mean_2021-04-15</th>\n",
       "      <th>nd_mean_2021-04-16</th>\n",
       "      <th>nd_mean_2021-04-18</th>\n",
       "      <th>nd_mean_2021-04-19</th>\n",
       "      <th>nd_mean_2021-04-20</th>\n",
       "      <th>nd_mean_2021-04-22</th>\n",
       "      <th>...</th>\n",
       "      <th>nd_mean_2021-08-11</th>\n",
       "      <th>nd_mean_2021-08-12</th>\n",
       "      <th>nd_mean_2021-08-13</th>\n",
       "      <th>nd_mean_2021-08-23</th>\n",
       "      <th>nd_mean_2021-08-27</th>\n",
       "      <th>geolist</th>\n",
       "      <th>longitude</th>\n",
       "      <th>latitude</th>\n",
       "      <th>location</th>\n",
       "      <th>adress</th>\n",
       "    </tr>\n",
       "  </thead>\n",
       "  <tbody>\n",
       "    <tr>\n",
       "      <th>0</th>\n",
       "      <td>{\"type\":\"Polygon\",\"coordinates\":[[[42.49107269...</td>\n",
       "      <td>20</td>\n",
       "      <td>3</td>\n",
       "      <td>3536</td>\n",
       "      <td>0.187150</td>\n",
       "      <td>0.072846</td>\n",
       "      <td>0.262300</td>\n",
       "      <td>0.261778</td>\n",
       "      <td>0.063134</td>\n",
       "      <td>0.062981</td>\n",
       "      <td>...</td>\n",
       "      <td>0.000000</td>\n",
       "      <td>0.658016</td>\n",
       "      <td>0.126832</td>\n",
       "      <td>0.034858</td>\n",
       "      <td>0.614770</td>\n",
       "      <td>[{\"type\":\"Polygon\", \"coordinates\":[[[42.491072...</td>\n",
       "      <td>42.49107269973438</td>\n",
       "      <td>51.41403574496151</td>\n",
       "      <td>51.41403574496151, 42.49107269973438</td>\n",
       "      <td>(Тоетьяковский территориальный отдел, Борисогл...</td>\n",
       "    </tr>\n",
       "    <tr>\n",
       "      <th>1</th>\n",
       "      <td>{\"type\":\"Polygon\",\"coordinates\":[[[50.25545110...</td>\n",
       "      <td>45</td>\n",
       "      <td>4</td>\n",
       "      <td>3739</td>\n",
       "      <td>0.245285</td>\n",
       "      <td>0.332928</td>\n",
       "      <td>0.349133</td>\n",
       "      <td>0.287182</td>\n",
       "      <td>0.064671</td>\n",
       "      <td>0.097138</td>\n",
       "      <td>...</td>\n",
       "      <td>0.618475</td>\n",
       "      <td>0.601685</td>\n",
       "      <td>0.174914</td>\n",
       "      <td>0.000000</td>\n",
       "      <td>0.179612</td>\n",
       "      <td>[{\"type\":\"Polygon\", \"coordinates\":[[[50.255451...</td>\n",
       "      <td>50.25545110440393</td>\n",
       "      <td>56.60539225586957</td>\n",
       "      <td>56.60539225586957, 50.25545110440393</td>\n",
       "      <td>(Кугунур, Кугунурское сельское поселение, Балт...</td>\n",
       "    </tr>\n",
       "    <tr>\n",
       "      <th>2</th>\n",
       "      <td>{\"type\":\"Polygon\",\"coordinates\":[[[37.99698998...</td>\n",
       "      <td>28</td>\n",
       "      <td>2</td>\n",
       "      <td>1294</td>\n",
       "      <td>0.006391</td>\n",
       "      <td>0.013679</td>\n",
       "      <td>0.000000</td>\n",
       "      <td>0.007055</td>\n",
       "      <td>0.000000</td>\n",
       "      <td>0.120804</td>\n",
       "      <td>...</td>\n",
       "      <td>0.172080</td>\n",
       "      <td>0.000000</td>\n",
       "      <td>0.090607</td>\n",
       "      <td>0.000000</td>\n",
       "      <td>0.054127</td>\n",
       "      <td>[{\"type\":\"Polygon\", \"coordinates\":[[[37.996989...</td>\n",
       "      <td>37.99698998166838</td>\n",
       "      <td>53.83590426425984</td>\n",
       "      <td>53.83590426425984, 37.99698998166838</td>\n",
       "      <td>(Дедиловское сельское поселение, Киреевский ра...</td>\n",
       "    </tr>\n",
       "  </tbody>\n",
       "</table>\n",
       "<p>3 rows × 79 columns</p>\n",
       "</div>"
      ],
      "text/plain": [
       "                                                .geo  area  crop    id  \\\n",
       "0  {\"type\":\"Polygon\",\"coordinates\":[[[42.49107269...    20     3  3536   \n",
       "1  {\"type\":\"Polygon\",\"coordinates\":[[[50.25545110...    45     4  3739   \n",
       "2  {\"type\":\"Polygon\",\"coordinates\":[[[37.99698998...    28     2  1294   \n",
       "\n",
       "   nd_mean_2021-04-15  nd_mean_2021-04-16  nd_mean_2021-04-18  \\\n",
       "0            0.187150            0.072846            0.262300   \n",
       "1            0.245285            0.332928            0.349133   \n",
       "2            0.006391            0.013679            0.000000   \n",
       "\n",
       "   nd_mean_2021-04-19  nd_mean_2021-04-20  nd_mean_2021-04-22  ...  \\\n",
       "0            0.261778            0.063134            0.062981  ...   \n",
       "1            0.287182            0.064671            0.097138  ...   \n",
       "2            0.007055            0.000000            0.120804  ...   \n",
       "\n",
       "   nd_mean_2021-08-11  nd_mean_2021-08-12  nd_mean_2021-08-13  \\\n",
       "0            0.000000            0.658016            0.126832   \n",
       "1            0.618475            0.601685            0.174914   \n",
       "2            0.172080            0.000000            0.090607   \n",
       "\n",
       "   nd_mean_2021-08-23  nd_mean_2021-08-27  \\\n",
       "0            0.034858            0.614770   \n",
       "1            0.000000            0.179612   \n",
       "2            0.000000            0.054127   \n",
       "\n",
       "                                             geolist          longitude  \\\n",
       "0  [{\"type\":\"Polygon\", \"coordinates\":[[[42.491072...  42.49107269973438   \n",
       "1  [{\"type\":\"Polygon\", \"coordinates\":[[[50.255451...  50.25545110440393   \n",
       "2  [{\"type\":\"Polygon\", \"coordinates\":[[[37.996989...  37.99698998166838   \n",
       "\n",
       "            latitude                              location  \\\n",
       "0  51.41403574496151  51.41403574496151, 42.49107269973438   \n",
       "1  56.60539225586957  56.60539225586957, 50.25545110440393   \n",
       "2  53.83590426425984  53.83590426425984, 37.99698998166838   \n",
       "\n",
       "                                              adress  \n",
       "0  (Тоетьяковский территориальный отдел, Борисогл...  \n",
       "1  (Кугунур, Кугунурское сельское поселение, Балт...  \n",
       "2  (Дедиловское сельское поселение, Киреевский ра...  \n",
       "\n",
       "[3 rows x 79 columns]"
      ]
     },
     "execution_count": 11,
     "metadata": {},
     "output_type": "execute_result"
    }
   ],
   "source": [
    "data.head(3)"
   ]
  },
  {
   "cell_type": "code",
   "execution_count": null,
   "id": "97118b62",
   "metadata": {},
   "outputs": [],
   "source": []
  }
 ],
 "metadata": {
  "kernelspec": {
   "display_name": "Python 3 (ipykernel)",
   "language": "python",
   "name": "python3"
  },
  "language_info": {
   "codemirror_mode": {
    "name": "ipython",
    "version": 3
   },
   "file_extension": ".py",
   "mimetype": "text/x-python",
   "name": "python",
   "nbconvert_exporter": "python",
   "pygments_lexer": "ipython3",
   "version": "3.9.2"
  }
 },
 "nbformat": 4,
 "nbformat_minor": 5
}
